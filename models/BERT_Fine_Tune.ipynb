{
  "cells": [
    {
      "cell_type": "code",
      "execution_count": 6,
      "id": "8d0e3272-ac9c-49e5-a111-1ad56d8bd49c",
      "metadata": {
        "id": "8d0e3272-ac9c-49e5-a111-1ad56d8bd49c"
      },
      "outputs": [],
      "source": [
        "import pandas as pd\n",
        "from sklearn.model_selection import train_test_split\n",
        "from transformers import TrainingArguments, Trainer, TFAutoModel, AutoTokenizer, BertForSequenceClassification, pipeline\n",
        "from sklearn.preprocessing import LabelEncoder\n",
        "from torch.utils.data import Dataset\n",
        "import torch"
      ]
    },
    {
      "cell_type": "code",
      "execution_count": 7,
      "id": "cba3a2ba-eb9f-4bb8-8c1b-cdfdd11f0b78",
      "metadata": {
        "colab": {
          "base_uri": "https://localhost:8080/",
          "height": 206
        },
        "id": "cba3a2ba-eb9f-4bb8-8c1b-cdfdd11f0b78",
        "outputId": "053baa3c-b184-4537-eab7-d57a9b234e82"
      },
      "outputs": [
        {
          "data": {
            "text/html": [
              "<div>\n",
              "<style scoped>\n",
              "    .dataframe tbody tr th:only-of-type {\n",
              "        vertical-align: middle;\n",
              "    }\n",
              "\n",
              "    .dataframe tbody tr th {\n",
              "        vertical-align: top;\n",
              "    }\n",
              "\n",
              "    .dataframe thead th {\n",
              "        text-align: right;\n",
              "    }\n",
              "</style>\n",
              "<table border=\"1\" class=\"dataframe\">\n",
              "  <thead>\n",
              "    <tr style=\"text-align: right;\">\n",
              "      <th></th>\n",
              "      <th>text</th>\n",
              "      <th>label</th>\n",
              "      <th>category</th>\n",
              "    </tr>\n",
              "  </thead>\n",
              "  <tbody>\n",
              "    <tr>\n",
              "      <th>0</th>\n",
              "      <td>FLASH SALE | LIMITED TIME ONLY Shop Now</td>\n",
              "      <td>1</td>\n",
              "      <td>Urgency</td>\n",
              "    </tr>\n",
              "    <tr>\n",
              "      <th>1</th>\n",
              "      <td>Pillowcases &amp; Shams</td>\n",
              "      <td>0</td>\n",
              "      <td>Not Dark Pattern</td>\n",
              "    </tr>\n",
              "    <tr>\n",
              "      <th>2</th>\n",
              "      <td>Write a review</td>\n",
              "      <td>0</td>\n",
              "      <td>Not Dark Pattern</td>\n",
              "    </tr>\n",
              "    <tr>\n",
              "      <th>3</th>\n",
              "      <td>To start your return, simply click on the foll...</td>\n",
              "      <td>0</td>\n",
              "      <td>Not Dark Pattern</td>\n",
              "    </tr>\n",
              "    <tr>\n",
              "      <th>4</th>\n",
              "      <td>newsletter signup (privacy policy)</td>\n",
              "      <td>0</td>\n",
              "      <td>Not Dark Pattern</td>\n",
              "    </tr>\n",
              "  </tbody>\n",
              "</table>\n",
              "</div>"
            ],
            "text/plain": [
              "                                                text label          category\n",
              "0            FLASH SALE | LIMITED TIME ONLY Shop Now     1           Urgency\n",
              "1                                Pillowcases & Shams     0  Not Dark Pattern\n",
              "2                                     Write a review     0  Not Dark Pattern\n",
              "3  To start your return, simply click on the foll...     0  Not Dark Pattern\n",
              "4                newsletter signup (privacy policy)      0  Not Dark Pattern"
            ]
          },
          "execution_count": 7,
          "metadata": {},
          "output_type": "execute_result"
        }
      ],
      "source": [
        "df = pd.read_csv(\"../dataset/cleaned_file.csv\")\n",
        "df.head()"
      ]
    },
    {
      "cell_type": "code",
      "execution_count": 8,
      "id": "077789d2-6c22-4893-9b30-b22d8fff5ef1",
      "metadata": {
        "colab": {
          "base_uri": "https://localhost:8080/"
        },
        "id": "077789d2-6c22-4893-9b30-b22d8fff5ef1",
        "outputId": "0c4530a0-5e4e-4bd0-f80a-5f40ef2c408a"
      },
      "outputs": [
        {
          "data": {
            "text/plain": [
              "['Urgency',\n",
              " 'Not Dark Pattern',\n",
              " 'Scarcity',\n",
              " 'Misdirection',\n",
              " 'Social Proof',\n",
              " 'Obstruction',\n",
              " 'Sneaking',\n",
              " 'Forced Action']"
            ]
          },
          "execution_count": 8,
          "metadata": {},
          "output_type": "execute_result"
        }
      ],
      "source": [
        "fine = df['category'].unique().tolist()\n",
        "fine = [s.strip() for s in fine]\n",
        "fine"
      ]
    },
    {
      "cell_type": "code",
      "execution_count": 9,
      "id": "44e52bde-5dcb-4cca-965e-c3c5a883020f",
      "metadata": {
        "id": "44e52bde-5dcb-4cca-965e-c3c5a883020f"
      },
      "outputs": [],
      "source": [
        "num_fine = len(fine)\n",
        "id2fine = {id:fine for id, fine in enumerate(fine)}\n",
        "fine2id = {fine:id for id, fine in enumerate(fine)}"
      ]
    },
    {
      "cell_type": "code",
      "execution_count": 10,
      "id": "8cca27fa-aaab-46be-bbaf-aff15178b49c",
      "metadata": {
        "colab": {
          "base_uri": "https://localhost:8080/"
        },
        "id": "8cca27fa-aaab-46be-bbaf-aff15178b49c",
        "outputId": "fb462c43-4991-4ad9-b0c5-50d611496510"
      },
      "outputs": [
        {
          "data": {
            "text/plain": [
              "{0: 'Urgency',\n",
              " 1: 'Not Dark Pattern',\n",
              " 2: 'Scarcity',\n",
              " 3: 'Misdirection',\n",
              " 4: 'Social Proof',\n",
              " 5: 'Obstruction',\n",
              " 6: 'Sneaking',\n",
              " 7: 'Forced Action'}"
            ]
          },
          "execution_count": 10,
          "metadata": {},
          "output_type": "execute_result"
        }
      ],
      "source": [
        "id2fine"
      ]
    },
    {
      "cell_type": "code",
      "execution_count": 11,
      "id": "73bf3d3a-2c84-4c4a-b72f-7cdc2aaa0741",
      "metadata": {
        "colab": {
          "base_uri": "https://localhost:8080/"
        },
        "id": "73bf3d3a-2c84-4c4a-b72f-7cdc2aaa0741",
        "outputId": "58ce1aa2-95c2-431b-adf8-f3e5e73a89a7"
      },
      "outputs": [
        {
          "data": {
            "text/plain": [
              "{'Urgency': 0,\n",
              " 'Not Dark Pattern': 1,\n",
              " 'Scarcity': 2,\n",
              " 'Misdirection': 3,\n",
              " 'Social Proof': 4,\n",
              " 'Obstruction': 5,\n",
              " 'Sneaking': 6,\n",
              " 'Forced Action': 7}"
            ]
          },
          "execution_count": 11,
          "metadata": {},
          "output_type": "execute_result"
        }
      ],
      "source": [
        "fine2id"
      ]
    },
    {
      "cell_type": "code",
      "execution_count": 12,
      "id": "88b7bea3-67cc-4ec3-bb81-21491214af1c",
      "metadata": {
        "id": "88b7bea3-67cc-4ec3-bb81-21491214af1c"
      },
      "outputs": [],
      "source": [
        "df.drop('label', axis=1, inplace=True)"
      ]
    },
    {
      "cell_type": "code",
      "execution_count": 13,
      "id": "429f4a1c-ae2b-4a65-b723-63a8287d27dc",
      "metadata": {
        "colab": {
          "base_uri": "https://localhost:8080/",
          "height": 206
        },
        "id": "429f4a1c-ae2b-4a65-b723-63a8287d27dc",
        "outputId": "9f5572d9-551a-4d46-e063-d34618df5c0a"
      },
      "outputs": [
        {
          "data": {
            "text/html": [
              "<div>\n",
              "<style scoped>\n",
              "    .dataframe tbody tr th:only-of-type {\n",
              "        vertical-align: middle;\n",
              "    }\n",
              "\n",
              "    .dataframe tbody tr th {\n",
              "        vertical-align: top;\n",
              "    }\n",
              "\n",
              "    .dataframe thead th {\n",
              "        text-align: right;\n",
              "    }\n",
              "</style>\n",
              "<table border=\"1\" class=\"dataframe\">\n",
              "  <thead>\n",
              "    <tr style=\"text-align: right;\">\n",
              "      <th></th>\n",
              "      <th>text</th>\n",
              "      <th>category</th>\n",
              "    </tr>\n",
              "  </thead>\n",
              "  <tbody>\n",
              "    <tr>\n",
              "      <th>0</th>\n",
              "      <td>FLASH SALE | LIMITED TIME ONLY Shop Now</td>\n",
              "      <td>Urgency</td>\n",
              "    </tr>\n",
              "    <tr>\n",
              "      <th>1</th>\n",
              "      <td>Pillowcases &amp; Shams</td>\n",
              "      <td>Not Dark Pattern</td>\n",
              "    </tr>\n",
              "    <tr>\n",
              "      <th>2</th>\n",
              "      <td>Write a review</td>\n",
              "      <td>Not Dark Pattern</td>\n",
              "    </tr>\n",
              "    <tr>\n",
              "      <th>3</th>\n",
              "      <td>To start your return, simply click on the foll...</td>\n",
              "      <td>Not Dark Pattern</td>\n",
              "    </tr>\n",
              "    <tr>\n",
              "      <th>4</th>\n",
              "      <td>newsletter signup (privacy policy)</td>\n",
              "      <td>Not Dark Pattern</td>\n",
              "    </tr>\n",
              "  </tbody>\n",
              "</table>\n",
              "</div>"
            ],
            "text/plain": [
              "                                                text          category\n",
              "0            FLASH SALE | LIMITED TIME ONLY Shop Now           Urgency\n",
              "1                                Pillowcases & Shams  Not Dark Pattern\n",
              "2                                     Write a review  Not Dark Pattern\n",
              "3  To start your return, simply click on the foll...  Not Dark Pattern\n",
              "4                newsletter signup (privacy policy)   Not Dark Pattern"
            ]
          },
          "execution_count": 13,
          "metadata": {},
          "output_type": "execute_result"
        }
      ],
      "source": [
        "df.head()"
      ]
    },
    {
      "cell_type": "code",
      "execution_count": 14,
      "id": "7ab5592d-d8d1-46a8-aaa1-8257df9446b4",
      "metadata": {
        "id": "7ab5592d-d8d1-46a8-aaa1-8257df9446b4"
      },
      "outputs": [],
      "source": [
        "df['labels']=df.category.map(lambda x: fine2id[x.strip()])"
      ]
    },
    {
      "cell_type": "code",
      "execution_count": 15,
      "id": "77d10006-c3b4-4a3c-a9c2-5da3a1d726a0",
      "metadata": {
        "colab": {
          "base_uri": "https://localhost:8080/",
          "height": 510
        },
        "id": "77d10006-c3b4-4a3c-a9c2-5da3a1d726a0",
        "outputId": "8b487f1b-2475-4768-cede-91b79f814598"
      },
      "outputs": [
        {
          "data": {
            "text/html": [
              "<div>\n",
              "<style scoped>\n",
              "    .dataframe tbody tr th:only-of-type {\n",
              "        vertical-align: middle;\n",
              "    }\n",
              "\n",
              "    .dataframe tbody tr th {\n",
              "        vertical-align: top;\n",
              "    }\n",
              "\n",
              "    .dataframe thead th {\n",
              "        text-align: right;\n",
              "    }\n",
              "</style>\n",
              "<table border=\"1\" class=\"dataframe\">\n",
              "  <thead>\n",
              "    <tr style=\"text-align: right;\">\n",
              "      <th></th>\n",
              "      <th>text</th>\n",
              "      <th>category</th>\n",
              "      <th>labels</th>\n",
              "    </tr>\n",
              "  </thead>\n",
              "  <tbody>\n",
              "    <tr>\n",
              "      <th>0</th>\n",
              "      <td>FLASH SALE | LIMITED TIME ONLY Shop Now</td>\n",
              "      <td>Urgency</td>\n",
              "      <td>0</td>\n",
              "    </tr>\n",
              "    <tr>\n",
              "      <th>1</th>\n",
              "      <td>Pillowcases &amp; Shams</td>\n",
              "      <td>Not Dark Pattern</td>\n",
              "      <td>1</td>\n",
              "    </tr>\n",
              "    <tr>\n",
              "      <th>2</th>\n",
              "      <td>Write a review</td>\n",
              "      <td>Not Dark Pattern</td>\n",
              "      <td>1</td>\n",
              "    </tr>\n",
              "    <tr>\n",
              "      <th>3</th>\n",
              "      <td>To start your return, simply click on the foll...</td>\n",
              "      <td>Not Dark Pattern</td>\n",
              "      <td>1</td>\n",
              "    </tr>\n",
              "    <tr>\n",
              "      <th>4</th>\n",
              "      <td>newsletter signup (privacy policy)</td>\n",
              "      <td>Not Dark Pattern</td>\n",
              "      <td>1</td>\n",
              "    </tr>\n",
              "    <tr>\n",
              "      <th>...</th>\n",
              "      <td>...</td>\n",
              "      <td>...</td>\n",
              "      <td>...</td>\n",
              "    </tr>\n",
              "    <tr>\n",
              "      <th>3863</th>\n",
              "      <td>TWO FREE PILLOWS AND 30% OFF WITH PROMO CODE</td>\n",
              "      <td>Misdirection</td>\n",
              "      <td>3</td>\n",
              "    </tr>\n",
              "    <tr>\n",
              "      <th>3864</th>\n",
              "      <td>Compare at</td>\n",
              "      <td>Misdirection</td>\n",
              "      <td>3</td>\n",
              "    </tr>\n",
              "    <tr>\n",
              "      <th>3865</th>\n",
              "      <td>$132.90 $99.00</td>\n",
              "      <td>Misdirection</td>\n",
              "      <td>3</td>\n",
              "    </tr>\n",
              "    <tr>\n",
              "      <th>3866</th>\n",
              "      <td>This offer is only VALID if you add to cart now!</td>\n",
              "      <td>Misdirection</td>\n",
              "      <td>3</td>\n",
              "    </tr>\n",
              "    <tr>\n",
              "      <th>3867</th>\n",
              "      <td>Save $148.98AUD â€“ 49% Off</td>\n",
              "      <td>Misdirection</td>\n",
              "      <td>3</td>\n",
              "    </tr>\n",
              "  </tbody>\n",
              "</table>\n",
              "<p>3868 rows × 3 columns</p>\n",
              "</div>"
            ],
            "text/plain": [
              "                                                   text          category  \\\n",
              "0               FLASH SALE | LIMITED TIME ONLY Shop Now           Urgency   \n",
              "1                                   Pillowcases & Shams  Not Dark Pattern   \n",
              "2                                        Write a review  Not Dark Pattern   \n",
              "3     To start your return, simply click on the foll...  Not Dark Pattern   \n",
              "4                   newsletter signup (privacy policy)   Not Dark Pattern   \n",
              "...                                                 ...               ...   \n",
              "3863       TWO FREE PILLOWS AND 30% OFF WITH PROMO CODE      Misdirection   \n",
              "3864                                         Compare at      Misdirection   \n",
              "3865                                     $132.90 $99.00      Misdirection   \n",
              "3866   This offer is only VALID if you add to cart now!      Misdirection   \n",
              "3867                        Save $148.98AUD â€“ 49% Off      Misdirection   \n",
              "\n",
              "      labels  \n",
              "0          0  \n",
              "1          1  \n",
              "2          1  \n",
              "3          1  \n",
              "4          1  \n",
              "...      ...  \n",
              "3863       3  \n",
              "3864       3  \n",
              "3865       3  \n",
              "3866       3  \n",
              "3867       3  \n",
              "\n",
              "[3868 rows x 3 columns]"
            ]
          },
          "execution_count": 15,
          "metadata": {},
          "output_type": "execute_result"
        }
      ],
      "source": [
        "df"
      ]
    },
    {
      "cell_type": "code",
      "execution_count": 16,
      "id": "2260dec5-f2fe-4184-918a-934dd98f21cb",
      "metadata": {
        "id": "2260dec5-f2fe-4184-918a-934dd98f21cb"
      },
      "outputs": [],
      "source": [
        "tokenizer = AutoTokenizer.from_pretrained(\"bert-base-uncased\", max_length=512)"
      ]
    },
    {
      "cell_type": "code",
      "execution_count": 17,
      "id": "c4d1cf8d-4186-4f36-aed9-10efebec2589",
      "metadata": {
        "colab": {
          "base_uri": "https://localhost:8080/"
        },
        "id": "c4d1cf8d-4186-4f36-aed9-10efebec2589",
        "outputId": "a04deb23-c4bc-45f6-9dc5-0c97bd3d3e38"
      },
      "outputs": [
        {
          "name": "stderr",
          "output_type": "stream",
          "text": [
            "Some weights of BertForSequenceClassification were not initialized from the model checkpoint at bert-base-uncased and are newly initialized: ['classifier.bias', 'classifier.weight']\n",
            "You should probably TRAIN this model on a down-stream task to be able to use it for predictions and inference.\n"
          ]
        },
        {
          "data": {
            "text/plain": [
              "BertForSequenceClassification(\n",
              "  (bert): BertModel(\n",
              "    (embeddings): BertEmbeddings(\n",
              "      (word_embeddings): Embedding(30522, 768, padding_idx=0)\n",
              "      (position_embeddings): Embedding(512, 768)\n",
              "      (token_type_embeddings): Embedding(2, 768)\n",
              "      (LayerNorm): LayerNorm((768,), eps=1e-12, elementwise_affine=True)\n",
              "      (dropout): Dropout(p=0.1, inplace=False)\n",
              "    )\n",
              "    (encoder): BertEncoder(\n",
              "      (layer): ModuleList(\n",
              "        (0-11): 12 x BertLayer(\n",
              "          (attention): BertAttention(\n",
              "            (self): BertSdpaSelfAttention(\n",
              "              (query): Linear(in_features=768, out_features=768, bias=True)\n",
              "              (key): Linear(in_features=768, out_features=768, bias=True)\n",
              "              (value): Linear(in_features=768, out_features=768, bias=True)\n",
              "              (dropout): Dropout(p=0.1, inplace=False)\n",
              "            )\n",
              "            (output): BertSelfOutput(\n",
              "              (dense): Linear(in_features=768, out_features=768, bias=True)\n",
              "              (LayerNorm): LayerNorm((768,), eps=1e-12, elementwise_affine=True)\n",
              "              (dropout): Dropout(p=0.1, inplace=False)\n",
              "            )\n",
              "          )\n",
              "          (intermediate): BertIntermediate(\n",
              "            (dense): Linear(in_features=768, out_features=3072, bias=True)\n",
              "            (intermediate_act_fn): GELUActivation()\n",
              "          )\n",
              "          (output): BertOutput(\n",
              "            (dense): Linear(in_features=3072, out_features=768, bias=True)\n",
              "            (LayerNorm): LayerNorm((768,), eps=1e-12, elementwise_affine=True)\n",
              "            (dropout): Dropout(p=0.1, inplace=False)\n",
              "          )\n",
              "        )\n",
              "      )\n",
              "    )\n",
              "    (pooler): BertPooler(\n",
              "      (dense): Linear(in_features=768, out_features=768, bias=True)\n",
              "      (activation): Tanh()\n",
              "    )\n",
              "  )\n",
              "  (dropout): Dropout(p=0.1, inplace=False)\n",
              "  (classifier): Linear(in_features=768, out_features=8, bias=True)\n",
              ")"
            ]
          },
          "execution_count": 17,
          "metadata": {},
          "output_type": "execute_result"
        }
      ],
      "source": [
        "model = BertForSequenceClassification.from_pretrained(\"bert-base-uncased\", num_labels=num_fine,\n",
        "                                                      id2label=id2fine, label2id=fine2id)\n",
        "\n",
        "device = torch.device(\"cuda:0\" if torch.cuda.is_available() else \"cpu\")\n",
        "model.to(device)"
      ]
    },
    {
      "cell_type": "code",
      "execution_count": 18,
      "id": "2f499b79-89cc-4691-b149-9f64bf414bd0",
      "metadata": {
        "id": "2f499b79-89cc-4691-b149-9f64bf414bd0"
      },
      "outputs": [],
      "source": [
        "SIZE = df.shape[0]\n",
        "train_texts = list(df.text[:SIZE//2])\n",
        "val_texts = list(df.text[SIZE//2:(3*SIZE)//4])\n",
        "test_texts = list(df.text[(3*SIZE)//4:])\n",
        "train_labels = list(df.labels[:SIZE//2])\n",
        "val_labels = list(df.labels[SIZE//2:(3*SIZE)//4])\n",
        "test_labels = list(df.labels[(3*SIZE)//4:])"
      ]
    },
    {
      "cell_type": "code",
      "execution_count": 19,
      "id": "ff616762-a26d-4a2a-a807-7642017d41e8",
      "metadata": {
        "colab": {
          "base_uri": "https://localhost:8080/"
        },
        "id": "ff616762-a26d-4a2a-a807-7642017d41e8",
        "outputId": "b78cf497-dc02-4789-fbbf-3c5251170765"
      },
      "outputs": [
        {
          "data": {
            "text/plain": [
              "(1934, 967, 967)"
            ]
          },
          "execution_count": 19,
          "metadata": {},
          "output_type": "execute_result"
        }
      ],
      "source": [
        "len(train_texts), len(val_texts), len(test_texts)"
      ]
    },
    {
      "cell_type": "code",
      "execution_count": 20,
      "id": "f03479d4-7bfa-433a-a695-4ea7822a5ada",
      "metadata": {
        "id": "f03479d4-7bfa-433a-a695-4ea7822a5ada"
      },
      "outputs": [],
      "source": [
        "train_encodings = tokenizer(train_texts, truncation=True, padding=True)\n",
        "if len(val_texts) > 0:\n",
        "    val_encodings = tokenizer(val_texts, truncation=True, padding=True)\n",
        "else:\n",
        "    val_encodings = None  # or handle it accordingly)\n",
        "test_encodings = tokenizer(test_texts, truncation=True, padding=True)"
      ]
    },
    {
      "cell_type": "code",
      "execution_count": 21,
      "id": "aaae70a7-76cd-40d1-9114-192bb89e7787",
      "metadata": {
        "id": "aaae70a7-76cd-40d1-9114-192bb89e7787"
      },
      "outputs": [],
      "source": [
        "class Dataloader(Dataset):\n",
        "    def __init__(self, encodings, labels):\n",
        "        self.encodings = encodings\n",
        "        self.labels = labels\n",
        "\n",
        "    def __getitem__(self, idx):\n",
        "        item = {key: torch.tensor(val[idx]) for key, val in self.encodings.items()}\n",
        "        item['labels'] = torch.tensor(self.labels[idx])\n",
        "        return item\n",
        "\n",
        "    def __len__(self):\n",
        "        return len(self.labels)"
      ]
    },
    {
      "cell_type": "code",
      "execution_count": 22,
      "id": "544f5e1b-d3e8-4cad-bbfe-ac0616d6149d",
      "metadata": {
        "id": "544f5e1b-d3e8-4cad-bbfe-ac0616d6149d"
      },
      "outputs": [],
      "source": [
        "train_dataloader = Dataloader(train_encodings, train_labels)\n",
        "val_dataloader = Dataloader(val_encodings, val_labels)\n",
        "test_dataloader = Dataloader(test_encodings, test_labels)"
      ]
    },
    {
      "cell_type": "code",
      "execution_count": 23,
      "id": "558177ca-b04c-4640-b42d-47960b82193e",
      "metadata": {
        "id": "558177ca-b04c-4640-b42d-47960b82193e"
      },
      "outputs": [],
      "source": [
        "from transformers import TrainingArguments, Trainer"
      ]
    },
    {
      "cell_type": "code",
      "execution_count": 24,
      "id": "cb945a9f-8750-44c2-bfb3-1882ba90b7fa",
      "metadata": {
        "id": "cb945a9f-8750-44c2-bfb3-1882ba90b7fa"
      },
      "outputs": [],
      "source": [
        "from sklearn.metrics import accuracy_score, precision_recall_fscore_support\n",
        "\n",
        "def compute_metrics(pred):\n",
        "    labels = pred.label_ids\n",
        "\n",
        "    # Obtain predicted class labels by finding the column index with the maximum probability\n",
        "    preds = pred.predictions.argmax(-1)\n",
        "\n",
        "    # Compute macro precision, recall, and F1 score using sklearn's precision_recall_fscore_support function\n",
        "    precision, recall, f1, _ = precision_recall_fscore_support(labels, preds, average='macro')\n",
        "\n",
        "    # Calculate the accuracy score using sklearn's accuracy_score function\n",
        "    acc = accuracy_score(labels, preds)\n",
        "\n",
        "    # Return the computed metrics as a dictionary\n",
        "    return {\n",
        "        'Accuracy': acc,\n",
        "        'F1': f1,\n",
        "        'Precision': precision,\n",
        "        'Recall': recall\n",
        "    }"
      ]
    },
    {
      "cell_type": "code",
      "execution_count": 25,
      "id": "950ba417-d419-4659-a15d-2d4768800d63",
      "metadata": {
        "id": "950ba417-d419-4659-a15d-2d4768800d63"
      },
      "outputs": [
        {
          "name": "stderr",
          "output_type": "stream",
          "text": [
            "/home/shashank/.local/lib/python3.10/site-packages/transformers/training_args.py:1474: FutureWarning: `evaluation_strategy` is deprecated and will be removed in version 4.46 of 🤗 Transformers. Use `eval_strategy` instead\n",
            "  warnings.warn(\n"
          ]
        }
      ],
      "source": [
        "training_args = TrainingArguments(\n",
        "    output_dir=\"./TTC4908Model\",\n",
        "    do_train=True,\n",
        "    do_eval=True,\n",
        "\n",
        "    num_train_epochs=3,\n",
        "    per_device_train_batch_size=16,\n",
        "    per_device_eval_batch_size=32,\n",
        "\n",
        "    warmup_steps=100,\n",
        "    weight_decay=0.01,\n",
        "    logging_strategy=\"steps\",\n",
        "\n",
        "    logging_dir=\"./multi-class-logs\",\n",
        "    logging_steps=50,\n",
        "    evaluation_strategy=\"steps\",\n",
        "    eval_steps=50,\n",
        "    save_strategy=\"steps\",\n",
        "    fp16=False,\n",
        "    load_best_model_at_end=True,\n",
        ")"
      ]
    },
    {
      "cell_type": "code",
      "execution_count": 26,
      "id": "cfe40e3c-821f-45c6-8d93-94c544bb2d2a",
      "metadata": {
        "id": "cfe40e3c-821f-45c6-8d93-94c544bb2d2a"
      },
      "outputs": [],
      "source": [
        "trainer = Trainer(\n",
        "    # the pre-trained model that will be fine-tuned\n",
        "    model=model,\n",
        "\n",
        "    # training arguments that we defined above\n",
        "    args=training_args,\n",
        "    train_dataset=train_dataloader,\n",
        "    eval_dataset=val_dataloader,\n",
        "    compute_metrics=compute_metrics\n",
        ")"
      ]
    },
    {
      "cell_type": "code",
      "execution_count": 1,
      "id": "de04adf8-b438-4eac-a137-d3a23cbde093",
      "metadata": {
        "colab": {
          "base_uri": "https://localhost:8080/",
          "height": 636
        },
        "id": "de04adf8-b438-4eac-a137-d3a23cbde093",
        "outputId": "892e0963-823e-42b9-b083-554ae8ba2cbd"
      },
      "outputs": [],
      "source": [
        "trainer.train()"
      ]
    },
    {
      "cell_type": "code",
      "execution_count": null,
      "id": "DU42Qpxjny7K",
      "metadata": {
        "colab": {
          "base_uri": "https://localhost:8080/"
        },
        "id": "DU42Qpxjny7K",
        "outputId": "34b87266-97c0-4fe2-e60b-8942078aeba4"
      },
      "outputs": [
        {
          "data": {
            "text/plain": [
              "('Titans_DPBH_BERT_Fine_Tuned_Model/tokenizer_config.json',\n",
              " 'Titans_DPBH_BERT_Fine_Tuned_Model/special_tokens_map.json',\n",
              " 'Titans_DPBH_BERT_Fine_Tuned_Model/vocab.txt',\n",
              " 'Titans_DPBH_BERT_Fine_Tuned_Model/added_tokens.json',\n",
              " 'Titans_DPBH_BERT_Fine_Tuned_Model/tokenizer.json')"
            ]
          },
          "execution_count": 54,
          "metadata": {},
          "output_type": "execute_result"
        }
      ],
      "source": [
        "model_path = \"Titans_DPBH_BERT_Fine_Tuned_Model2\"\n",
        "trainer.save_model(model_path)\n",
        "tokenizer.save_pretrained(model_path)"
      ]
    }
  ],
  "metadata": {
    "accelerator": "GPU",
    "colab": {
      "gpuType": "T4",
      "provenance": []
    },
    "kernelspec": {
      "display_name": "Python 3",
      "name": "python3"
    },
    "language_info": {
      "codemirror_mode": {
        "name": "ipython",
        "version": 3
      },
      "file_extension": ".py",
      "mimetype": "text/x-python",
      "name": "python",
      "nbconvert_exporter": "python",
      "pygments_lexer": "ipython3",
      "version": "3.10.12"
    }
  },
  "nbformat": 4,
  "nbformat_minor": 5
}
